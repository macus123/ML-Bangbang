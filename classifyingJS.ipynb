{
 "cells": [
  {
   "cell_type": "code",
   "execution_count": null,
   "metadata": {},
   "outputs": [
    {
     "ename": "",
     "evalue": "",
     "output_type": "error",
     "traceback": [
      "\u001b[1;31mRunning cells with 'c:\\Users\\Administrator\\AppData\\Local\\Microsoft\\WindowsApps\\python.exe' requires the ipykernel package.\n",
      "\u001b[1;31mRun the following command to install 'ipykernel' into the Python environment. \n",
      "\u001b[1;31mCommand: 'c:/Users/Administrator/AppData/Local/Microsoft/WindowsApps/python.exe -m pip install ipykernel -U --user --force-reinstall'"
     ]
    }
   ],
   "source": [
    "import glob\n",
    "import os\n",
    "\n",
    "#get plot path\n",
    "dir_name = 'negativeplots_new'\n",
    "# Get list of all files in a given directory sorted by name\n",
    "\n",
    "list_of_files = sorted( filter( lambda x: os.path.isfile(os.path.join(dir_name, x)),\n",
    "                        os.listdir(dir_name) ) )\n",
    "\n",
    "filenamelist = []\n",
    "for file_name in list_of_files:\n",
    "    file_name, file_extension = os.path.splitext(file_name)\n",
    "    filenamelist.append(file_name)\n",
    "    print(filenamelist)"
   ]
  },
  {
   "cell_type": "code",
   "execution_count": null,
   "metadata": {},
   "outputs": [],
   "source": [
    "positivejs = \"negative'\n",
    "\n",
    "list_of_filesjs = sorted( filter( lambda x: os.path.isfile(os.path.join(positivejs, x)),\n",
    "                        os.listdir(positivejs) ) )\n",
    "for file_name1 in list_of_filesjs:\n",
    "    file_name1, file_extension = os.path.splitext(file_name1)\n",
    "    print(file_name1)"
   ]
  },
  {
   "cell_type": "code",
   "execution_count": null,
   "metadata": {},
   "outputs": [],
   "source": [
    "import shutil\n",
    "positivejs=[]\n",
    "\n",
    "for file_name1 in list_of_filesjs:\n",
    "    file_name1, file_extension = os.path.splitext(file_name1)\n",
    " \n",
    "    if file_name1 in filenamelist:\n",
    "      \n",
    "      positivejs.append(file_name1)\n",
    "      print(positivejs)\n",
    "      \n",
    "    for i in positivejs:\n",
    "      print(i)\n",
    "      i =   'negative/'+ i + file_extension\n",
    "      print(i)\n",
    "      new_positivejs = 'negativeJS' \n",
    "      print(new_positivejs)\n",
    "      shutil.copy(i, new_positivejs)\n",
    "\n",
    "# absolute path\n",
    "\n",
    "\n",
    "\n",
    "\n",
    "\n",
    "#shutil.move(positivejs, new_positivejs)"
   ]
  }
 ],
 "metadata": {
  "kernelspec": {
   "display_name": "Python 3",
   "language": "python",
   "name": "python3"
  },
  "language_info": {
   "name": "python",
   "version": "3.8.10"
  },
  "orig_nbformat": 4
 },
 "nbformat": 4,
 "nbformat_minor": 2
}
