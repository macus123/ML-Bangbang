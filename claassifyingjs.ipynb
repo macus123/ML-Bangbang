{
 "cells": [
  {
   "cell_type": "code",
   "execution_count": 16,
   "metadata": {},
   "outputs": [
    {
     "ename": "FileNotFoundError",
     "evalue": "[WinError 3] The system cannot find the path specified: '/negativeplots_new'",
     "output_type": "error",
     "traceback": [
      "\u001b[1;31m---------------------------------------------------------------------------\u001b[0m",
      "\u001b[1;31mFileNotFoundError\u001b[0m                         Traceback (most recent call last)",
      "\u001b[1;32mUntitled-1.ipynb Cell 1\u001b[0m in \u001b[0;36m9\n\u001b[0;32m      <a href='vscode-notebook-cell:Untitled-1.ipynb?jupyter-notebook#W0sdW50aXRsZWQ%3D?line=4'>5</a>\u001b[0m dir_name \u001b[39m=\u001b[39m \u001b[39m'\u001b[39m\u001b[39m/negativeplots_new\u001b[39m\u001b[39m'\u001b[39m\n\u001b[0;32m      <a href='vscode-notebook-cell:Untitled-1.ipynb?jupyter-notebook#W0sdW50aXRsZWQ%3D?line=5'>6</a>\u001b[0m \u001b[39m# Get list of all files in a given directory sorted by name\u001b[39;00m\n\u001b[0;32m      <a href='vscode-notebook-cell:Untitled-1.ipynb?jupyter-notebook#W0sdW50aXRsZWQ%3D?line=7'>8</a>\u001b[0m list_of_files \u001b[39m=\u001b[39m \u001b[39msorted\u001b[39m( \u001b[39mfilter\u001b[39m( \u001b[39mlambda\u001b[39;00m x: os\u001b[39m.\u001b[39mpath\u001b[39m.\u001b[39misfile(os\u001b[39m.\u001b[39mpath\u001b[39m.\u001b[39mjoin(dir_name, x)),\n\u001b[1;32m----> <a href='vscode-notebook-cell:Untitled-1.ipynb?jupyter-notebook#W0sdW50aXRsZWQ%3D?line=8'>9</a>\u001b[0m                         os\u001b[39m.\u001b[39mlistdir(dir_name) ) )\n\u001b[0;32m     <a href='vscode-notebook-cell:Untitled-1.ipynb?jupyter-notebook#W0sdW50aXRsZWQ%3D?line=10'>11</a>\u001b[0m filenamelist \u001b[39m=\u001b[39m []\n\u001b[0;32m     <a href='vscode-notebook-cell:Untitled-1.ipynb?jupyter-notebook#W0sdW50aXRsZWQ%3D?line=11'>12</a>\u001b[0m \u001b[39mfor\u001b[39;00m file_name \u001b[39min\u001b[39;00m list_of_files:\n",
      "\u001b[1;31mFileNotFoundError\u001b[0m: [WinError 3] The system cannot find the path specified: '/negativeplots_new'"
     ]
    }
   ],
   "source": [
    "import glob\n",
    "import os\n",
    "import shutil\n",
    "#get plot path\n",
    "dir_name = 'negativeplots_new'\n",
    "# Get list of all files in a given directory sorted by name\n",
    "\n",
    "list_of_files = sorted( filter( lambda x: os.path.isfile(os.path.join(dir_name, x)),\n",
    "                        os.listdir(dir_name) ) )\n",
    "\n",
    "filenamelist = []\n",
    "for file_name in list_of_files:\n",
    "    file_name, file_extension = os.path.splitext(file_name)\n",
    "    filenamelist.append(file_name)\n",
    "    print(file_name)\n",
    "\n"
   ]
  },
  {
   "cell_type": "code",
   "execution_count": null,
   "metadata": {},
   "outputs": [],
   "source": [
    "\n",
    "\n",
    "positivejs = 'negative'\n",
    "list_of_filesjs = sorted(filter(lambda x: os.path.isfile(os.path.join(positivejs, x)), os.listdir(positivejs)))\n",
    "\n",
    "files_to_copy = []\n",
    "for file_name1 in list_of_filesjs:\n",
    "    file_name1, file_extension1 = os.path.splitext(file_name1)\n",
    "    if file_name1 in filenamelist:\n",
    "        files_to_copy.append((file_name1, file_extension1))\n",
    "     \n"
   ]
  },
  {
   "cell_type": "code",
   "execution_count": null,
   "metadata": {},
   "outputs": [],
   "source": [
    "\n",
    "new_positivejs = 'negativeJS'\n",
    "os.makedirs(new_positivejs, exist_ok=True)\n",
    "\n",
    "for file, extension in files_to_copy:\n",
    "    src_path = os.path.join(positivejs, file + extension)\n",
    "    dst_path = os.path.join(new_positivejs, file + extension)\n",
    "    shutil.copy(src_path, dst_path)"
   ]
  },
  {
   "cell_type": "code",
   "execution_count": null,
   "metadata": {},
   "outputs": [],
   "source": []
  },
  {
   "cell_type": "code",
   "execution_count": null,
   "metadata": {},
   "outputs": [],
   "source": []
  },
  {
   "cell_type": "code",
   "execution_count": null,
   "metadata": {},
   "outputs": [],
   "source": []
  },
  {
   "cell_type": "code",
   "execution_count": null,
   "metadata": {},
   "outputs": [],
   "source": []
  },
  {
   "cell_type": "code",
   "execution_count": null,
   "metadata": {},
   "outputs": [],
   "source": []
  },
  {
   "cell_type": "code",
   "execution_count": null,
   "metadata": {},
   "outputs": [],
   "source": []
  }
 ],
 "metadata": {
  "kernelspec": {
   "display_name": "Python 3",
   "language": "python",
   "name": "python3"
  },
  "language_info": {
   "codemirror_mode": {
    "name": "ipython",
    "version": 3
   },
   "file_extension": ".py",
   "mimetype": "text/x-python",
   "name": "python",
   "nbconvert_exporter": "python",
   "pygments_lexer": "ipython3",
   "version": "3.10.10"
  },
  "orig_nbformat": 4
 },
 "nbformat": 4,
 "nbformat_minor": 2
}
